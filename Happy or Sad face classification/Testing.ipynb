{
 "cells": [
  {
   "cell_type": "code",
   "execution_count": 1,
   "id": "c07ad936-5dc3-4ec1-9e5f-5c885e3b3cc3",
   "metadata": {},
   "outputs": [],
   "source": [
    "import numpy as np\n",
    "import tensorflow as tf\n",
    "import os\n",
    "from tensorflow.keras.models import load_model\n",
    "import cv2\n",
    "import matplotlib.pyplot as plt\n",
    "import joblib"
   ]
  },
  {
   "cell_type": "code",
   "execution_count": 10,
   "id": "9e678b06-0bff-4090-bf4f-d7dd7058ee39",
   "metadata": {},
   "outputs": [],
   "source": [
    "import warnings\n",
    "warnings.filterwarnings('ignore')"
   ]
  },
  {
   "cell_type": "code",
   "execution_count": 3,
   "id": "6419f1b8-5489-4601-a3f5-be0c24c2ec1d",
   "metadata": {},
   "outputs": [],
   "source": [
    "def func(input_path):\n",
    "    img = cv2.imread(input_path)\n",
    "    rgb_img = cv2.cvtColor(img,cv2.COLOR_BGR2RGB)\n",
    "    rgb_img = tf.image.resize(rgb_img,(256,256))\n",
    "    plt.imshow(rgb_img.numpy().astype(int))\n",
    "    model = joblib.load('models/happysadmodelog.pkl')\n",
    "    model.compile(optimizer='adam', loss='binary_crossentropy', metrics=['accuracy'])\n",
    "    ywhat = model.predict(np.expand_dims(rgb_img / 255, 0))\n",
    "    print(ywhat)\n",
    "    if ywhat>0.5:\n",
    "        print(\"person is sad\")\n",
    "    else:\n",
    "        print(\"person is happy\")"
   ]
  },
  {
   "cell_type": "code",
   "execution_count": null,
   "id": "e22e3b50-3705-4f6f-ae8e-c3a7cad67464",
   "metadata": {},
   "outputs": [],
   "source": [
    "ip = input(\"Print your file path for input : \")\n",
    "func(ip)"
   ]
  }
 ],
 "metadata": {
  "kernelspec": {
   "display_name": "Python 3 (ipykernel)",
   "language": "python",
   "name": "python3"
  },
  "language_info": {
   "codemirror_mode": {
    "name": "ipython",
    "version": 3
   },
   "file_extension": ".py",
   "mimetype": "text/x-python",
   "name": "python",
   "nbconvert_exporter": "python",
   "pygments_lexer": "ipython3",
   "version": "3.12.3"
  }
 },
 "nbformat": 4,
 "nbformat_minor": 5
}
